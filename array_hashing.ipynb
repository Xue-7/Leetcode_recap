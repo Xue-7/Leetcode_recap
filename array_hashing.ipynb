{
 "cells": [
  {
   "cell_type": "markdown",
   "metadata": {},
   "source": [
    "Leetcode 217. Contains Duplicate"
   ]
  },
  {
   "cell_type": "code",
   "execution_count": null,
   "metadata": {},
   "outputs": [],
   "source": [
    "def hasDuplicate(nums):\n",
    "    # edge case\n",
    "    if not nums: return False \n",
    "\n",
    "    # Use hash set\n",
    "    l1 = len(set(nums))\n",
    "    l2 = len(nums)\n",
    "\n",
    "    return False if l1 == l2 else True\n",
    "# time complexity O(n)\n",
    "# space complexity O(n)"
   ]
  },
  {
   "cell_type": "markdown",
   "metadata": {},
   "source": [
    "Leetcode 219. Contains Duplicate 2"
   ]
  },
  {
   "cell_type": "code",
   "execution_count": null,
   "metadata": {},
   "outputs": [],
   "source": [
    "def containNearbyDuplicate(nums, k):\n",
    "    # hash table \n",
    "    dic = {}\n",
    "    for i, num in enumerate(nums):\n",
    "        if num in dic and abs(i-dic[num]) <= k:\n",
    "            return True \n",
    "        dic[num] = i \n",
    "    return False \n",
    "\n",
    "# time complexity o(n)\n",
    "# space complexity o(n)"
   ]
  },
  {
   "cell_type": "markdown",
   "metadata": {},
   "source": [
    "Leetcode 14. Longest Common Prefix"
   ]
  },
  {
   "cell_type": "code",
   "execution_count": null,
   "metadata": {},
   "outputs": [],
   "source": [
    "def lcp(s1, s2):\n",
    "    index, length = 0, min(len(s1), len(s2))\n",
    "\n",
    "    while index < length and s1[index] == s2[index]:\n",
    "        index += 1 \n",
    "    return s1[:index]\n",
    "\n",
    "def longestCommonPrefix(strs):\n",
    "    if not strs: return \"\"\n",
    "\n",
    "    prefix = strs[0]\n",
    "    for i in range(1, len(strs)):\n",
    "        prefix = lcp(prefix, strs[i])\n",
    "        if not prefix:\n",
    "            break \n",
    "    return prefix\n",
    "# time complexity o(nl)\n",
    "# space complexity o(l)"
   ]
  }
 ],
 "metadata": {
  "kernelspec": {
   "display_name": "base",
   "language": "python",
   "name": "python3"
  },
  "language_info": {
   "name": "python",
   "version": "3.12.3"
  }
 },
 "nbformat": 4,
 "nbformat_minor": 2
}
